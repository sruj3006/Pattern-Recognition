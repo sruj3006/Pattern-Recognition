{
 "cells": [
  {
   "cell_type": "markdown",
   "id": "55e6b918-afac-43e8-b338-43f8ac64014f",
   "metadata": {},
   "source": [
    "##  Deep Neural Networks Project"
   ]
  },
  {
   "cell_type": "markdown",
   "id": "1a8e066d-2849-4a6e-9c71-bb98d605ae07",
   "metadata": {},
   "source": [
    "In this project, you will be working with a real-world data set from the Las Vegas Metropolitan Police Department. The dataset  contains information about the reported incidents, including the time and location of the crime, type of incident, and number of persons involved. "
   ]
  },
  {
   "cell_type": "markdown",
   "id": "9e87fac7-352a-4c39-b087-76254b5e2743",
   "metadata": {},
   "source": [
    "The dataset is downloaded from the public docket at: \n",
    "https://opendata-lvmpd.hub.arcgis.com\n",
    "\n",
    "let's read the csv file and transform the data:"
   ]
  },
  {
   "cell_type": "code",
   "execution_count": 41,
   "id": "f055bc28",
   "metadata": {},
   "outputs": [
    {
     "name": "stdout",
     "output_type": "stream",
     "text": [
      "Requirement already satisfied: torch in /Users/srujanathummala/anaconda3/lib/python3.11/site-packages (2.1.0)\n",
      "Requirement already satisfied: filelock in /Users/srujanathummala/anaconda3/lib/python3.11/site-packages (from torch) (3.9.0)\n",
      "Requirement already satisfied: typing-extensions in /Users/srujanathummala/anaconda3/lib/python3.11/site-packages (from torch) (4.7.1)\n",
      "Requirement already satisfied: sympy in /Users/srujanathummala/anaconda3/lib/python3.11/site-packages (from torch) (1.11.1)\n",
      "Requirement already satisfied: networkx in /Users/srujanathummala/anaconda3/lib/python3.11/site-packages (from torch) (3.1)\n",
      "Requirement already satisfied: jinja2 in /Users/srujanathummala/anaconda3/lib/python3.11/site-packages (from torch) (3.1.2)\n",
      "Requirement already satisfied: fsspec in /Users/srujanathummala/anaconda3/lib/python3.11/site-packages (from torch) (2023.4.0)\n",
      "Requirement already satisfied: MarkupSafe>=2.0 in /Users/srujanathummala/anaconda3/lib/python3.11/site-packages (from jinja2->torch) (2.1.1)\n",
      "Requirement already satisfied: mpmath>=0.19 in /Users/srujanathummala/anaconda3/lib/python3.11/site-packages (from sympy->torch) (1.3.0)\n"
     ]
    }
   ],
   "source": [
    "!pip install torch"
   ]
  },
  {
   "cell_type": "code",
   "execution_count": 42,
   "id": "637211a4-582f-426b-a127-c3f284463f35",
   "metadata": {},
   "outputs": [],
   "source": [
    "import torch\n",
    "import pandas as pd\n",
    "from torch.utils.data import DataLoader, Dataset\n",
    "import matplotlib.pyplot as plt\n",
    "import seaborn as sns\n",
    "import numpy as np"
   ]
  },
  {
   "cell_type": "code",
   "execution_count": 43,
   "id": "bcf40b02-80b6-4abc-a662-f7ed50a65181",
   "metadata": {},
   "outputs": [],
   "source": [
    "orig_df = pd.read_csv('LVMPD-Stats.csv', parse_dates=['ReportedOn'])"
   ]
  },
  {
   "cell_type": "code",
   "execution_count": 44,
   "id": "e1ca1d15-3955-4971-a3c4-c1a73b62edda",
   "metadata": {},
   "outputs": [],
   "source": [
    "df = pd.read_csv('LVMPD-Stats.csv', parse_dates=['ReportedOn'],\n",
    "                 usecols = ['X', 'Y', 'ReportedOn',\n",
    "                            'Area_Command','NIBRSOffenseCode',\n",
    "                            'VictimCount' ] )\n",
    "\n",
    "df['DayOfWeek'] = df['ReportedOn'].dt.day_name()\n",
    "df['Time' ]     = df['ReportedOn'].dt.hour\n",
    "df.drop(columns = 'ReportedOn', inplace=True)"
   ]
  },
  {
   "cell_type": "code",
   "execution_count": 45,
   "id": "3ddc413d-ba3f-4204-bc18-7fdd4de8d221",
   "metadata": {},
   "outputs": [],
   "source": [
    "\n",
    "df['X'] = df['X'] \n",
    "df['Y'] = df['Y'] \n",
    "df['Time'] = pd.factorize(df['Time'])[0]\n",
    "df['DayOfWeek'] = pd.factorize(df['DayOfWeek'])[0]\n",
    "df.Area_Command = pd.factorize(df['Area_Command'])[0]\n",
    "df.VictimCount = pd.factorize(df['VictimCount'])[0]\n",
    "df.NIBRSOffenseCode = pd.factorize(df['NIBRSOffenseCode'])[0]\n",
    "df.dropna(inplace=True)"
   ]
  },
  {
   "cell_type": "code",
   "execution_count": 46,
   "id": "a9c6162f-9686-4195-818d-950a6368c686",
   "metadata": {},
   "outputs": [],
   "source": [
    "df= df[['X', 'Y', 'Area_Command', 'NIBRSOffenseCode',\n",
    "       'DayOfWeek', 'Time','VictimCount']]"
   ]
  },
  {
   "cell_type": "code",
   "execution_count": 47,
   "id": "a90bc78a-6d1b-4fe4-a1b0-8333aec1c851",
   "metadata": {},
   "outputs": [
    {
     "data": {
      "text/plain": [
       "(275, 7)"
      ]
     },
     "execution_count": 47,
     "metadata": {},
     "output_type": "execute_result"
    }
   ],
   "source": [
    "df.values.shape"
   ]
  },
  {
   "cell_type": "markdown",
   "id": "651605b1-8d2c-4d3e-a09e-9aef6e550fc6",
   "metadata": {},
   "source": [
    "# Goal\n",
    "The goal is to build a predictive model that is trained on the following data:\n",
    "* latitude and longitude (location)\n",
    "* Hour of the day\n",
    "* Day of the week\n",
    "* Area-of-command code: The police designation of the bureau of the operation.\n",
    "* Classification code for the crime committed\n",
    "  \n",
    "The predicted variable is the number of persons involved in the accident.\n"
   ]
  },
  {
   "cell_type": "markdown",
   "id": "0e54f0b8-83f9-4db9-88f9-f5a595342069",
   "metadata": {},
   "source": [
    "## Task 1\n",
    "* print a few rows of the values in the dataframe ``df`` and explain what each column of data means. \n",
    "* identify the input and target variables\n",
    "* what is the range of values in each column? Do you need to scale, shift or normalize your data? \n"
   ]
  },
  {
   "cell_type": "code",
   "execution_count": 48,
   "id": "21460cf1",
   "metadata": {},
   "outputs": [
    {
     "data": {
      "text/html": [
       "<div>\n",
       "<style scoped>\n",
       "    .dataframe tbody tr th:only-of-type {\n",
       "        vertical-align: middle;\n",
       "    }\n",
       "\n",
       "    .dataframe tbody tr th {\n",
       "        vertical-align: top;\n",
       "    }\n",
       "\n",
       "    .dataframe thead th {\n",
       "        text-align: right;\n",
       "    }\n",
       "</style>\n",
       "<table border=\"1\" class=\"dataframe\">\n",
       "  <thead>\n",
       "    <tr style=\"text-align: right;\">\n",
       "      <th></th>\n",
       "      <th>X</th>\n",
       "      <th>Y</th>\n",
       "      <th>Area_Command</th>\n",
       "      <th>NIBRSOffenseCode</th>\n",
       "      <th>DayOfWeek</th>\n",
       "      <th>Time</th>\n",
       "      <th>VictimCount</th>\n",
       "    </tr>\n",
       "  </thead>\n",
       "  <tbody>\n",
       "    <tr>\n",
       "      <th>0</th>\n",
       "      <td>-115.087518</td>\n",
       "      <td>36.216702</td>\n",
       "      <td>0</td>\n",
       "      <td>0</td>\n",
       "      <td>0</td>\n",
       "      <td>0</td>\n",
       "      <td>0</td>\n",
       "    </tr>\n",
       "    <tr>\n",
       "      <th>1</th>\n",
       "      <td>-115.240172</td>\n",
       "      <td>36.189693</td>\n",
       "      <td>1</td>\n",
       "      <td>1</td>\n",
       "      <td>1</td>\n",
       "      <td>1</td>\n",
       "      <td>0</td>\n",
       "    </tr>\n",
       "    <tr>\n",
       "      <th>2</th>\n",
       "      <td>-115.143088</td>\n",
       "      <td>36.181329</td>\n",
       "      <td>2</td>\n",
       "      <td>1</td>\n",
       "      <td>2</td>\n",
       "      <td>0</td>\n",
       "      <td>1</td>\n",
       "    </tr>\n",
       "    <tr>\n",
       "      <th>3</th>\n",
       "      <td>-115.225014</td>\n",
       "      <td>36.117633</td>\n",
       "      <td>3</td>\n",
       "      <td>1</td>\n",
       "      <td>1</td>\n",
       "      <td>2</td>\n",
       "      <td>2</td>\n",
       "    </tr>\n",
       "    <tr>\n",
       "      <th>4</th>\n",
       "      <td>-115.176708</td>\n",
       "      <td>36.095967</td>\n",
       "      <td>4</td>\n",
       "      <td>1</td>\n",
       "      <td>1</td>\n",
       "      <td>3</td>\n",
       "      <td>0</td>\n",
       "    </tr>\n",
       "  </tbody>\n",
       "</table>\n",
       "</div>"
      ],
      "text/plain": [
       "            X          Y  Area_Command  NIBRSOffenseCode  DayOfWeek  Time  \\\n",
       "0 -115.087518  36.216702             0                 0          0     0   \n",
       "1 -115.240172  36.189693             1                 1          1     1   \n",
       "2 -115.143088  36.181329             2                 1          2     0   \n",
       "3 -115.225014  36.117633             3                 1          1     2   \n",
       "4 -115.176708  36.095967             4                 1          1     3   \n",
       "\n",
       "   VictimCount  \n",
       "0            0  \n",
       "1            0  \n",
       "2            1  \n",
       "3            2  \n",
       "4            0  "
      ]
     },
     "execution_count": 48,
     "metadata": {},
     "output_type": "execute_result"
    }
   ],
   "source": [
    "df.head()"
   ]
  },
  {
   "cell_type": "markdown",
   "id": "f670e83b",
   "metadata": {},
   "source": [
    "* X - latitude\n",
    "* Y - longitude\n",
    "* Area_Command - The police designation of the bureau of the operation\n",
    "* NIBRSOffenseCode - Classification code for the crime committed\n",
    "* DayOfWeek - Day of the week\n",
    "* Time - Hour of the day\n",
    "* VictimCount - number of persons involved in the accident\n",
    "* Input Variables - X, Y, Area_Command, NIBRSOffenseCode, DayOfWeek, Time\n",
    "* Target Variables - VictimCount"
   ]
  },
  {
   "cell_type": "markdown",
   "id": "645491e0",
   "metadata": {},
   "source": [
    "* Input Variables - X, Y, Area_Command, NIBRSOffenseCode, DayOfWeek, Time\n",
    "* Target Variables - VictimCount"
   ]
  },
  {
   "cell_type": "code",
   "execution_count": 49,
   "id": "09fec0f7",
   "metadata": {},
   "outputs": [
    {
     "name": "stdout",
     "output_type": "stream",
     "text": [
      "Minimum Values: \n",
      "X                  -116.000000\n",
      "Y                    35.068419\n",
      "Area_Command          0.000000\n",
      "NIBRSOffenseCode      0.000000\n",
      "DayOfWeek             0.000000\n",
      "Time                  0.000000\n",
      "VictimCount           0.000000\n",
      "dtype: float64\n",
      "\n",
      "Maximun Values: \n",
      "X                  -114.62557\n",
      "Y                    37.00000\n",
      "Area_Command         11.00000\n",
      "NIBRSOffenseCode      2.00000\n",
      "DayOfWeek             6.00000\n",
      "Time                 23.00000\n",
      "VictimCount           6.00000\n",
      "dtype: float64\n"
     ]
    }
   ],
   "source": [
    "min_values = df.min()\n",
    "max_values = df.max()\n",
    "print('Minimum Values: ')\n",
    "print(min_values)\n",
    "print('')\n",
    "print('Maximun Values: ')\n",
    "print(max_values)"
   ]
  },
  {
   "cell_type": "markdown",
   "id": "873cd2ba",
   "metadata": {},
   "source": [
    "* data does not require scaling or normalization, as the range of values in each column is already within a reasonable range (e.g., latitude and longitude are within the expected geographical bounds, and other values are within their respective expected ranges)."
   ]
  },
  {
   "cell_type": "markdown",
   "id": "5549ecc9-3c0b-4efa-9a1f-340a25a1e4be",
   "metadata": {},
   "source": [
    "## Task 2 \n",
    "\n",
    "* Create two `DataLoader` objects for training and testing based on the input and output variables. Pick a reasonable batch size and verify the shape of data by iterating over the one dataset and printing the shape of the batched data. "
   ]
  },
  {
   "cell_type": "code",
   "execution_count": 50,
   "id": "c89e118c",
   "metadata": {},
   "outputs": [
    {
     "name": "stdout",
     "output_type": "stream",
     "text": [
      "Batch shape: torch.Size([64, 7])\n",
      "Batch shape: torch.Size([64, 7])\n",
      "Batch shape: torch.Size([64, 7])\n",
      "Batch shape: torch.Size([28, 7])\n"
     ]
    }
   ],
   "source": [
    "class CustomDataset(Dataset):\n",
    "    def __init__(self, data, transform=None):\n",
    "        self.data = data\n",
    "        self.transform = transform\n",
    "\n",
    "    def __len__(self):\n",
    "        return len(self.data)\n",
    "\n",
    "    def __getitem__(self, idx):\n",
    "        sample = self.data.iloc[idx].values\n",
    "        if self.transform:\n",
    "            sample = self.transform(sample)\n",
    "        return sample\n",
    "\n",
    "# Define your dataset\n",
    "dataset = CustomDataset(df)\n",
    "\n",
    "# Define the split between training and testing data\n",
    "train_size = int(0.8 * len(dataset))\n",
    "test_size = len(dataset) - train_size\n",
    "train_dataset, test_dataset = torch.utils.data.random_split(dataset, [train_size, test_size])\n",
    "\n",
    "# Define DataLoader objects for training and testing\n",
    "batch_size = 64  # You can choose a reasonable batch size\n",
    "train_loader = DataLoader(train_dataset, batch_size=batch_size, shuffle=True)\n",
    "test_loader = DataLoader(test_dataset, batch_size=batch_size, shuffle=False)\n",
    "\n",
    "# Iterate over one dataset and print the shape of the batched data\n",
    "for batch in train_loader:\n",
    "    # The shape of the batched data\n",
    "    print(\"Batch shape:\", batch.shape)"
   ]
  },
  {
   "cell_type": "markdown",
   "id": "1fb6f08c-5e70-4b14-b62c-4686d9f7aace",
   "metadata": {},
   "source": [
    "## Task 3\n",
    "In this task you will try to predict number of crime victims as a **real number**. Therefore the machine learning problem is a **regression** problem. \n",
    "\n",
    "* Define the proper loss function for this task\n",
    "* what should the size of the predicted output be?\n",
    "* explain your choice of architecture, including how many layers you will be using\n",
    "* define an optimizer for training this model, choose a proper learning rate \n",
    "* write a training loop that obtains a batch out of the  training data and calculates the forward and backward passes over the neural network. Call the optimizer to update the weights of the neural network.\n",
    "* write a for loop that continues the training over a number of epochs. At the end of each epoch, calculate the ``MSE`` error on the test data and print it.\n",
    "* is your model training well? Adjust the learning rate, hidden size of the network, and try different activation functions and number of layers to achieve the best accuracy and report it. "
   ]
  },
  {
   "cell_type": "code",
   "execution_count": 51,
   "id": "074193c4",
   "metadata": {},
   "outputs": [
    {
     "name": "stderr",
     "output_type": "stream",
     "text": [
      "/Users/srujanathummala/anaconda3/lib/python3.11/site-packages/torch/nn/modules/loss.py:535: UserWarning: Using a target size (torch.Size([32])) that is different to the input size (torch.Size([32, 1])). This will likely lead to incorrect results due to broadcasting. Please ensure they have the same size.\n",
      "  return F.mse_loss(input, target, reduction=self.reduction)\n",
      "/Users/srujanathummala/anaconda3/lib/python3.11/site-packages/torch/nn/modules/loss.py:535: UserWarning: Using a target size (torch.Size([28])) that is different to the input size (torch.Size([28, 1])). This will likely lead to incorrect results due to broadcasting. Please ensure they have the same size.\n",
      "  return F.mse_loss(input, target, reduction=self.reduction)\n"
     ]
    },
    {
     "name": "stdout",
     "output_type": "stream",
     "text": [
      "Epoch 1/10: Loss: 28.8188\n",
      "Epoch 2/10: Loss: 3.5117\n",
      "Epoch 3/10: Loss: 6.7265\n",
      "Epoch 4/10: Loss: 2.0663\n",
      "Epoch 5/10: Loss: 2.3125\n",
      "Epoch 6/10: Loss: 1.6986\n",
      "Epoch 7/10: Loss: 1.3966\n",
      "Epoch 8/10: Loss: 1.3893\n",
      "Epoch 9/10: Loss: 1.3272\n",
      "Epoch 10/10: Loss: 1.2529\n",
      "Test MSE: 1.1369\n"
     ]
    },
    {
     "name": "stderr",
     "output_type": "stream",
     "text": [
      "/Users/srujanathummala/anaconda3/lib/python3.11/site-packages/torch/nn/modules/loss.py:535: UserWarning: Using a target size (torch.Size([23])) that is different to the input size (torch.Size([23, 1])). This will likely lead to incorrect results due to broadcasting. Please ensure they have the same size.\n",
      "  return F.mse_loss(input, target, reduction=self.reduction)\n"
     ]
    }
   ],
   "source": [
    "import torch\n",
    "import torch.nn as nn\n",
    "import torch.optim as optim\n",
    "from torch.utils.data import DataLoader, Dataset\n",
    "from sklearn.model_selection import train_test_split\n",
    "# Define your neural network for regression\n",
    "class RegressionModel(nn.Module):\n",
    "    def __init__(self, input_size, hidden_size):\n",
    "        super(RegressionModel, self).__init__()\n",
    "        self.fc1 = nn.Linear(input_size, hidden_size)\n",
    "        self.fc2 = nn.Linear(hidden_size, 1)  # Output size is 1 for regression\n",
    "\n",
    "    def forward(self, x):\n",
    "        x = torch.relu(self.fc1(x))\n",
    "        x = self.fc2(x)\n",
    "        return x\n",
    "\n",
    "# Define your loss function for regression (Mean Squared Error)\n",
    "criterion = nn.MSELoss()\n",
    "\n",
    "# Define your dataset and DataLoader\n",
    "X_train, X_test, y_train, y_test = train_test_split(df.drop(columns=['VictimCount']), df['VictimCount'], test_size=0.2, random_state=42)\n",
    "\n",
    "class RegressionDataset(Dataset):\n",
    "    def __init__(self, data, target):\n",
    "        self.data = data\n",
    "        self.target = target\n",
    "\n",
    "    def __len__(self):\n",
    "        return len(self.data)\n",
    "\n",
    "    def __getitem__(self, idx):\n",
    "        x = torch.tensor(self.data.iloc[idx], dtype=torch.float32)\n",
    "        y = torch.tensor(self.target.iloc[idx], dtype=torch.float32)\n",
    "        return x, y\n",
    "\n",
    "batch_size = 32\n",
    "\n",
    "train_dataset = RegressionDataset(X_train, y_train)\n",
    "train_loader = DataLoader(train_dataset, batch_size=batch_size, shuffle=True)\n",
    "\n",
    "test_dataset = RegressionDataset(X_test, y_test)\n",
    "test_loader = DataLoader(test_dataset, batch_size=batch_size, shuffle=False)\n",
    "\n",
    "# Define your model\n",
    "input_size = len(X_train.columns)\n",
    "hidden_size = 64\n",
    "model = RegressionModel(input_size, hidden_size)\n",
    "\n",
    "# Define your optimizer (e.g., Adam)\n",
    "learning_rate = 0.001\n",
    "optimizer = optim.Adam(model.parameters(), lr=learning_rate)\n",
    "\n",
    "# Training loop\n",
    "num_epochs = 10\n",
    "\n",
    "for epoch in range(num_epochs):\n",
    "    model.train()\n",
    "    total_loss = 0\n",
    "    for inputs, targets in train_loader:\n",
    "        optimizer.zero_grad()\n",
    "        predictions = model(inputs)\n",
    "        loss = criterion(predictions, targets)\n",
    "        loss.backward()\n",
    "        optimizer.step()\n",
    "        total_loss += loss.item()\n",
    "    \n",
    "    avg_loss = total_loss / len(train_loader)\n",
    "    print(f\"Epoch {epoch + 1}/{num_epochs}: Loss: {avg_loss:.4f}\")\n",
    "\n",
    "# Calculate Mean Squared Error (MSE) on the test data and print it\n",
    "model.eval()\n",
    "total_test_loss = 0\n",
    "with torch.no_grad():\n",
    "    for inputs, targets in test_loader:\n",
    "        predictions = model(inputs)\n",
    "        test_loss = criterion(predictions, targets)\n",
    "        total_test_loss += test_loss.item()\n",
    "    avg_test_loss = total_test_loss / len(test_loader)\n",
    "    print(f\"Test MSE: {avg_test_loss:.4f}\")"
   ]
  },
  {
   "cell_type": "markdown",
   "id": "86e3fc70-c6ce-4589-9930-128951290e8d",
   "metadata": {},
   "source": [
    "## Task 4 \n",
    "\n",
    "In this task, you will try to predict the number of crime victims as a **class number**. Therefore the machine learning problem is a **classification** problem. \n",
    "\n",
    "* Repeat all the steps in task 3. Specifically, pay attention to the differences with regression.\n",
    "* How would you find the number of classes on the output data?\n",
    "* How is the architecture different?\n",
    "* How is the loss function different?\n",
    "* Calculate the Accuracy for test data as the number of correct classified outputs divided by the total number of test data in each epoch. Report it at the end of each epoch\n",
    "* Try a few variations of learning rate, hidden dimensions, layers, etc. What is the best accuracy that you can get? "
   ]
  },
  {
   "cell_type": "code",
   "execution_count": 52,
   "id": "7d929c52-af34-4081-92cd-3463a3fc4db1",
   "metadata": {},
   "outputs": [
    {
     "name": "stdout",
     "output_type": "stream",
     "text": [
      "Epoch [1/20] - Loss: 7.2861 - Training Accuracy: 0.3682\n",
      "Test Accuracy: 0.5455\n",
      "Epoch [2/20] - Loss: 2.6322 - Training Accuracy: 0.5091\n",
      "Test Accuracy: 0.3091\n",
      "Epoch [3/20] - Loss: 1.9231 - Training Accuracy: 0.3091\n",
      "Test Accuracy: 0.3091\n",
      "Epoch [4/20] - Loss: 1.6072 - Training Accuracy: 0.4227\n",
      "Test Accuracy: 0.5455\n",
      "Epoch [5/20] - Loss: 1.3622 - Training Accuracy: 0.5000\n",
      "Test Accuracy: 0.2909\n",
      "Epoch [6/20] - Loss: 1.2433 - Training Accuracy: 0.4818\n",
      "Test Accuracy: 0.5455\n",
      "Epoch [7/20] - Loss: 1.2234 - Training Accuracy: 0.4955\n",
      "Test Accuracy: 0.2909\n",
      "Epoch [8/20] - Loss: 1.1565 - Training Accuracy: 0.5409\n",
      "Test Accuracy: 0.5455\n",
      "Epoch [9/20] - Loss: 1.1621 - Training Accuracy: 0.4818\n",
      "Test Accuracy: 0.2182\n",
      "Epoch [10/20] - Loss: 1.1645 - Training Accuracy: 0.4591\n",
      "Test Accuracy: 0.5455\n",
      "Epoch [11/20] - Loss: 1.1100 - Training Accuracy: 0.5045\n",
      "Test Accuracy: 0.3818\n",
      "Epoch [12/20] - Loss: 1.1611 - Training Accuracy: 0.4955\n",
      "Test Accuracy: 0.4727\n",
      "Epoch [13/20] - Loss: 1.1107 - Training Accuracy: 0.4909\n",
      "Test Accuracy: 0.4727\n",
      "Epoch [14/20] - Loss: 1.1016 - Training Accuracy: 0.5045\n",
      "Test Accuracy: 0.3818\n",
      "Epoch [15/20] - Loss: 1.1379 - Training Accuracy: 0.4591\n",
      "Test Accuracy: 0.5455\n",
      "Epoch [16/20] - Loss: 1.1120 - Training Accuracy: 0.5091\n",
      "Test Accuracy: 0.4727\n",
      "Epoch [17/20] - Loss: 1.0950 - Training Accuracy: 0.5182\n",
      "Test Accuracy: 0.4000\n",
      "Epoch [18/20] - Loss: 1.1132 - Training Accuracy: 0.4955\n",
      "Test Accuracy: 0.5455\n",
      "Epoch [19/20] - Loss: 1.1090 - Training Accuracy: 0.4955\n",
      "Test Accuracy: 0.5091\n",
      "Epoch [20/20] - Loss: 1.1140 - Training Accuracy: 0.5136\n",
      "Test Accuracy: 0.4000\n"
     ]
    }
   ],
   "source": [
    "import torch\n",
    "import torch.nn as nn\n",
    "import torch.optim as optim\n",
    "from torch.utils.data import DataLoader, Dataset\n",
    "from sklearn.model_selection import train_test_split\n",
    "\n",
    "# Define your neural network for classification\n",
    "class CrimeClassifier(nn.Module):\n",
    "    def __init__(self, input_size, num_classes):\n",
    "        super(CrimeClassifier, self).__init__()\n",
    "        self.fc1 = nn.Linear(input_size, 128)\n",
    "        self.fc2 = nn.Linear(128, num_classes)\n",
    "\n",
    "    def forward(self, x):\n",
    "        x = torch.relu(self.fc1(x))\n",
    "        x = self.fc2(x)\n",
    "        return x\n",
    "\n",
    "# Determine the number of classes based on your data\n",
    "num_classes = len(df['VictimCount'].unique())\n",
    "\n",
    "# Define the model, loss function, and optimizer\n",
    "input_size = len(X_train.columns)\n",
    "model = CrimeClassifier(input_size, num_classes)\n",
    "criterion = nn.CrossEntropyLoss()\n",
    "optimizer = optim.Adam(model.parameters(), lr=0.001)\n",
    "\n",
    "# Training loop\n",
    "num_epochs = 20\n",
    "\n",
    "for epoch in range(num_epochs):\n",
    "    model.train()\n",
    "    total_loss = 0.0\n",
    "    correct_predictions = 0\n",
    "\n",
    "    for inputs, targets in train_loader:\n",
    "        optimizer.zero_grad()\n",
    "        outputs = model(inputs.float())\n",
    "        loss = criterion(outputs, targets.long())\n",
    "        loss.backward()\n",
    "        optimizer.step()\n",
    "        total_loss += loss.item()\n",
    "\n",
    "        _, predicted = torch.max(outputs, 1)\n",
    "        correct_predictions += (predicted == targets).sum().item()\n",
    "\n",
    "    average_loss = total_loss / len(train_loader)\n",
    "    accuracy = correct_predictions / len(train_dataset)  # Training accuracy\n",
    "\n",
    "    print(f\"Epoch [{epoch + 1}/{num_epochs}] - Loss: {average_loss:.4f} - Training Accuracy: {accuracy:.4f}\")\n",
    "\n",
    "    # Testing the model\n",
    "    model.eval()\n",
    "    correct_predictions = 0\n",
    "\n",
    "    with torch.no_grad():\n",
    "        for inputs, targets in test_loader:\n",
    "            outputs = model(inputs.float())\n",
    "            _, predicted = torch.max(outputs, 1)\n",
    "            correct_predictions += (predicted == targets).sum().item()\n",
    "\n",
    "        test_accuracy = correct_predictions / len(test_dataset)\n",
    "        print(f\"Test Accuracy: {test_accuracy:.4f}\")"
   ]
  },
  {
   "cell_type": "markdown",
   "id": "84d2a304-6197-4cd9-b31e-745f7862f213",
   "metadata": {},
   "source": [
    "## Task 5"
   ]
  },
  {
   "cell_type": "markdown",
   "id": "d6e4ef16-d828-45e5-bd58-1c49fcfecf52",
   "metadata": {},
   "source": [
    "### Reflect on your results\n",
    "\n",
    "* Write a paragraph about your experience with tasks 3 and 4. How do you compare the results? Which one worked better? Why?\n",
    "* Write a piece of code that finds an example of a  miss-classification. Calculate the probabilities for the output classes and plot them in a bar chart. Also, indicate what is the correct class label."
   ]
  },
  {
   "cell_type": "code",
   "execution_count": 53,
   "id": "8568822f",
   "metadata": {},
   "outputs": [
    {
     "name": "stdout",
     "output_type": "stream",
     "text": [
      "Misclassified Example: Predicted - 1, Actual - 0.0\n",
      "Class Probabilities: tensor([0.4157, 0.4917, 0.0262, 0.0542, 0.0030, 0.0038, 0.0054],\n",
      "       grad_fn=<SoftmaxBackward0>)\n",
      "Misclassified Example: Predicted - 0, Actual - 1.0\n",
      "Class Probabilities: tensor([0.4873, 0.4188, 0.0197, 0.0606, 0.0030, 0.0038, 0.0068],\n",
      "       grad_fn=<SoftmaxBackward0>)\n"
     ]
    }
   ],
   "source": [
    "for inputs, targets in test_loader:\n",
    "    predictions = model(inputs)\n",
    "    misclassified = (predictions.argmax(1) != targets).nonzero().squeeze().tolist()\n",
    "    if misclassified:\n",
    "        misclassified_example = misclassified[0]\n",
    "        print(f\"Misclassified Example: Predicted - {predictions[misclassified_example].argmax()}, Actual - {targets[misclassified_example]}\")\n",
    "        # Calculate class probabilities using softmax and plot them in a bar chart\n",
    "        class_probs = torch.softmax(predictions[misclassified_example], dim=0)\n",
    "        print(f\"Class Probabilities: {class_probs}\")"
   ]
  },
  {
   "cell_type": "markdown",
   "id": "5b000b0b-fa37-4f8d-8ec7-0a1e6e749424",
   "metadata": {},
   "source": [
    "## Task 6: Exploring the patterns in raw data\n",
    "\n",
    "* Plot the crime incidents as a `scatter` plot using the corrdinates. Use the color property of each datapoint to indicate the day of the week. Is there a pattern in the plot?\n",
    "* Now make a new scatter plot and use the color property of each datapoint to indicate the number of persons involved in the incident. Is there a pattern here?\n",
    "* use numpy (or pandas if you like) to sort the number of crimes reported by the day of the week. What days are most frequent?\n"
   ]
  },
  {
   "cell_type": "code",
   "execution_count": 54,
   "id": "5b396aaf-5d1a-49cd-ae1d-b63af7e561f5",
   "metadata": {},
   "outputs": [
    {
     "data": {
      "image/png": "[encoded data removed]",
      "text/plain": [
       "<Figure size 640x480 with 2 Axes>"
      ]
     },
     "metadata": {},
     "output_type": "display_data"
    },
    {
     "data": {
      "image/png": "[encoded data removed]",
      "text/plain": [
       "<Figure size 640x480 with 2 Axes>"
      ]
     },
     "metadata": {},
     "output_type": "display_data"
    },
    {
     "name": "stdout",
     "output_type": "stream",
     "text": [
      "Number of Crimes by Day of the Week:\n",
      "DayOfWeek\n",
      "0    40\n",
      "1    37\n",
      "2    32\n",
      "3    44\n",
      "4    51\n",
      "5    43\n",
      "6    28\n",
      "Name: count, dtype: int64\n"
     ]
    }
   ],
   "source": [
    "import matplotlib.pyplot as plt\n",
    "# 1. Plot the crime incidents as a scatter plot using coordinates, indicating the day of the week with colors\n",
    "plt.scatter(df['X'], df['Y'], c=df['DayOfWeek'], cmap='viridis')\n",
    "plt.title(\"Crime Incidents by Coordinates (Colored by Day of the Week)\")\n",
    "plt.xlabel(\"Latitude (X)\")\n",
    "plt.ylabel(\"Longitude (Y)\")\n",
    "plt.colorbar()\n",
    "plt.show()\n",
    "\n",
    "# 2. Scatter plot with coordinates, indicating the number of persons involved with colors\n",
    "plt.scatter(df['X'], df['Y'], c=df['VictimCount'], cmap='viridis')\n",
    "plt.title(\"Crime Incidents by Coordinates (Colored by VictimCount)\")\n",
    "plt.xlabel(\"Latitude (X)\")\n",
    "plt.ylabel(\"Longitude (Y)\")\n",
    "plt.colorbar()\n",
    "plt.show()\n",
    "\n",
    "# 3. Sort the number of crimes reported by the day of the week\n",
    "day_of_week_counts = df['DayOfWeek'].value_counts().sort_index()\n",
    "print(\"Number of Crimes by Day of the Week:\")\n",
    "print(day_of_week_counts)\n"
   ]
  },
  {
   "cell_type": "code",
   "execution_count": null,
   "id": "83659082",
   "metadata": {},
   "outputs": [],
   "source": []
  }
 ],
 "metadata": {
  "kernelspec": {
   "display_name": "Python 3 (ipykernel)",
   "language": "python",
   "name": "python3"
  },
  "language_info": {
   "codemirror_mode": {
    "name": "ipython",
    "version": 3
   },
   "file_extension": ".py",
   "mimetype": "text/x-python",
   "name": "python",
   "nbconvert_exporter": "python",
   "pygments_lexer": "ipython3",
   "version": "3.11.5"
  }
 },
 "nbformat": 4,
 "nbformat_minor": 5
}
